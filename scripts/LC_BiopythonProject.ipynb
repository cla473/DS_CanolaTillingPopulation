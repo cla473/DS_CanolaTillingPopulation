{
 "cells": [
  {
   "cell_type": "markdown",
   "metadata": {},
   "source": [
    "# Biopython Project\n",
    "\n",
    "*Project:  Ag & Food DataSchool*  \n",
    "*Author:  Loretta Clancy*  \n",
    "*Date:  31-May-2018*\n"
   ]
  },
  {
   "cell_type": "markdown",
   "metadata": {},
   "source": [
    "### Project Requirements\n",
    "\n",
    "* Need to read the output.vcf file, one line at a time,\n",
    "* Get rid of header information,\n",
    "* Get the quality score as store the values, and\n",
    "* Plot them to determine (histogram) - matplotlib, to determine cutoff point \n",
    "* Write a function to write out to new file, lines with quality score above specified value\n",
    "\n",
    "*Notes:*  Can use any packages, including python package to read vcf files\n",
    "\n",
    "Input File:  \"/OSM/CBR/AF_DATASCHOOL/output/2018-05-03_canola/VCF/output.vcf\"\n"
   ]
  },
  {
   "cell_type": "markdown",
   "metadata": {},
   "source": [
    "### 1. Read the File and looking at the data"
   ]
  },
  {
   "cell_type": "markdown",
   "metadata": {},
   "source": [
    "Knowing that we are dealing with VCF Data, lets look at what we can expect to get back.\n",
    "\n",
    "### VCF File formats\n",
    "A set of calls at a site. Equivalent to a row in a VCF file.  \n",
    "The standard VCF fields **CHROM**, **POS**, **ID**, **REF**, **ALT**, **QUAL**, **FILTER**, **INFO** and **FORMAT** are available as properties.\n",
    "The list of genotype calls is in the samples property.\n",
    "\n",
    "#### Possible values in INFO\n",
    "Arbitrary keys are permitted, although the following sub-fields are reserved (albeit optional):\n",
    "\n",
    "* **AA** - ancestral allele \n",
    "* **AC** - allele count in genotypes, for each ALT allele, in the same order as listed \n",
    "* **AF** - allele frequency for each ALT allele in the same order as listed: use this when estimated from primary data, not called genotypes \n",
    "* **AN** - total number of alleles in called genotypes \n",
    "* **BQ** - RMS base quality at this position \n",
    "* **CIGAR** - cigar string describing how to align an alternate allele to the reference allele \n",
    "* **DB** - dbSNP membership \n",
    "* **DP** - combined depth across samples, e.g. DP=154 \n",
    "* **END** - end position of the variant described in this record (for use with symbolic alleles) \n",
    "* **H2** - membership in hapmap2 \n",
    "* **H3** - membership in hapmap3 \n",
    "* **MQ** - RMS mapping quality, e.g. MQ=52 \n",
    "* **MQ0** - Number of MAPQ == 0 reads covering this record \n",
    "* **NS** - Number of samples with data \n",
    "* **SB** - strand bias at this position \n",
    "* **SOMATIC** - indicates that the record is a somatic mutation, for cancer genomics \n",
    "* **VALIDATED** - validated by follow-up experiment \n",
    "* **1000G** - membership in 1000 Genomes \n",
    "\n",
    "There is other data in the file, but not sure if we need to access that.\n",
    "\n",
    "Lets look at reading the first record and see what we can get:"
   ]
  },
  {
   "cell_type": "code",
   "execution_count": 39,
   "metadata": {
    "collapsed": true
   },
   "outputs": [],
   "source": [
    "InFile=\"/OSM/CBR/AF_DATASCHOOL/output/2018-05-03_canola/VCF/output.vcf\""
   ]
  },
  {
   "cell_type": "code",
   "execution_count": 59,
   "metadata": {},
   "outputs": [
    {
     "name": "stdout",
     "output_type": "stream",
     "text": [
      "<module 'vcf' from '/apps/python/3.6.1/lib/python3.6/site-packages/vcf/__init__.py'>\n"
     ]
    }
   ],
   "source": [
    "import vcf\n",
    "print(vcf)"
   ]
  },
  {
   "cell_type": "code",
   "execution_count": 41,
   "metadata": {},
   "outputs": [
    {
     "name": "stdout",
     "output_type": "stream",
     "text": [
      "1 :  Record(CHROM=NC_027757.2, POS=39084, REF=C, ALT=[A])\n",
      "CHROM: NC_027757.2\n",
      "POS: 39084\n",
      "ID: None\n",
      "REF: C\n",
      "ALT: [A]\n",
      "QUAL: 78.35\n",
      "FILTER: None\n",
      "INFO: {'AC': [68], 'AF': [0.944], 'AN': 72, 'DP': 2, 'FS': 0.0, 'MLEAC': [68], 'MLEAF': [0.944], 'MQ': 42.0, 'QD': 25.36, 'SOR': 2.303}\n",
      "FORMAT: GT:AD:DP:GQ:PL\n",
      "\n",
      "2 :  Record(CHROM=NC_027757.2, POS=142320, REF=A, ALT=[G])\n",
      "CHROM: NC_027757.2\n",
      "POS: 142320\n",
      "ID: None\n",
      "REF: A\n",
      "ALT: [G]\n",
      "QUAL: 51.35\n",
      "FILTER: None\n",
      "INFO: {'AC': [68], 'AF': [0.944], 'AN': 72, 'DP': 2, 'FS': 0.0, 'MLEAC': [68], 'MLEAF': [0.944], 'MQ': 24.0, 'QD': 25.68, 'SOR': 2.303}\n",
      "FORMAT: GT:AD:DP:GQ:PL\n",
      "\n"
     ]
    }
   ],
   "source": [
    "counts=0\n",
    "vcf_reader = vcf.Reader(open(InFile, 'r'))\n",
    "for record in vcf_reader:\n",
    "    counts+=1\n",
    "    print(counts, \": \", record)\n",
    "    print('CHROM:', record.CHROM)\n",
    "    print('POS:', record.POS)\n",
    "    print('ID:', record.ID)\n",
    "    print('REF:', record.REF)\n",
    "    print('ALT:', record.ALT)\n",
    "    print('QUAL:', record.QUAL)\n",
    "    print('FILTER:', record.FILTER)\n",
    "    print('INFO:', record.INFO)\n",
    "    print('FORMAT:', record.FORMAT)\n",
    "    \n",
    "    print()\n",
    "    \n",
    "    if counts == 2:\n",
    "        break"
   ]
  },
  {
   "cell_type": "code",
   "execution_count": 56,
   "metadata": {},
   "outputs": [
    {
     "name": "stdout",
     "output_type": "stream",
     "text": [
      "1 :  Record(CHROM=NC_027757.2, POS=39084, REF=C, ALT=[A])\n",
      "CHROM: NC_027757.2\n",
      "POS: 39084\n",
      "ID: None\n",
      "REF: C\n",
      "ALT: [A]\n",
      "QUAL: 78.35\n",
      "FILTER: None\n",
      "INFO: {'AC': [68], 'AF': [0.944], 'AN': 72, 'DP': 2, 'FS': 0.0, 'MLEAC': [68], 'MLEAF': [0.944], 'MQ': 42.0, 'QD': 25.36, 'SOR': 2.303}\n",
      "FORMAT: GT:AD:DP:GQ:PL\n",
      "record.num_called: 1\n",
      "record.call_rate: 0.021739130434782608\n",
      "record.num_unknown: 45\n",
      "record.num_hom_ref: 0\n",
      "record.num_het: 1\n",
      "record.num_hom_alt: 0\n",
      "record.nucl_diversity: 0.20987654320987664\n",
      "record.aaf: [0.9444444444444444]\n",
      "record.nucl_diversity: 0.20987654320987664\n",
      "16\n",
      "CallData(GT=0/0/0/0/1/1/1/1/1/1/1/1/1/1/1/1/1/1/1/1/1/1/1/1/1/1/1/1/1/1/1/1/1/1/1/1/1/1/1/1/1/1/1/1/1/1/1/1/1/1/1/1/1/1/1/1/1/1/1/1/1/1/1/1/1/1/1/1/1/1/1/1, AD=[0, 2], DP=2, GQ=0, PL=[85, 37, 31, 28, 25, 23, 22, 20, 19, 18, 17, 16, 16, 15, 14, 14, 13, 13, 12, 12, 11, 11, 10, 10, 10, 9, 9, 9, 8, 8, 8, 7, 7, 7, 7, 6, 6, 6, 6, 5, 5, 5, 5, 4, 4, 4, 4, 4, 4, 3, 3, 3, 3, 3, 2, 2, 2, 2, 2, 2, 2, 1, 1, 1, 1, 1, 1, 1, 0, 0, 0, 0, 0])\n",
      "<class 'vcf.model.make_calldata_tuple.<locals>.CallData'>\n",
      "0/0/0/0/1/1/1/1/1/1/1/1/1/1/1/1/1/1/1/1/1/1/1/1/1/1/1/1/1/1/1/1/1/1/1/1/1/1/1/1/1/1/1/1/1/1/1/1/1/1/1/1/1/1/1/1/1/1/1/1/1/1/1/1/1/1/1/1/1/1/1/1\n",
      "[0, 2]\n",
      "2\n",
      "0\n",
      "[85, 37, 31, 28, 25, 23, 22, 20, 19, 18, 17, 16, 16, 15, 14, 14, 13, 13, 12, 12, 11, 11, 10, 10, 10, 9, 9, 9, 8, 8, 8, 7, 7, 7, 7, 6, 6, 6, 6, 5, 5, 5, 5, 4, 4, 4, 4, 4, 4, 3, 3, 3, 3, 3, 2, 2, 2, 2, 2, 2, 2, 1, 1, 1, 1, 1, 1, 1, 0, 0, 0, 0, 0]\n",
      "record.is_snp: True\n",
      "record.is_indel: False\n",
      "record.is_transition: False\n",
      "record.is_deletion: False\n",
      "record.var_type: snp\n",
      "record.var_subtype: tv\n",
      "record.is_monomorphic: False\n",
      "\n"
     ]
    }
   ],
   "source": [
    "counts=0\n",
    "vcf_reader = vcf.Reader(open(InFile, 'r'))\n",
    "for record in vcf_reader:\n",
    "    counts+=1\n",
    "    print(counts, \": \", record)\n",
    "    print('CHROM:', record.CHROM)\n",
    "    print('POS:', record.POS)\n",
    "    print('ID:', record.ID)\n",
    "    print('REF:', record.REF)\n",
    "    print('ALT:', record.ALT)\n",
    "    print('QUAL:', record.QUAL)\n",
    "    print('FILTER:', record.FILTER)\n",
    "    print('INFO:', record.INFO)\n",
    "    print('FORMAT:', record.FORMAT)\n",
    "    #print('samples:', record.samples)\n",
    "    #print('genotype:', record.genotype)\n",
    "    \n",
    "    print('record.num_called:', record.num_called)\n",
    "    print('record.call_rate:', record.call_rate)\n",
    "    print('record.num_unknown:', record.num_unknown)\n",
    "    print('record.num_hom_ref:', record.num_hom_ref)\n",
    "    print('record.num_het:', record.num_het)\n",
    "    print('record.num_hom_alt:', record.num_hom_alt)\n",
    "    print('record.nucl_diversity:', record.nucl_diversity)\n",
    "    print('record.aaf:', record.aaf)\n",
    "    print('record.nucl_diversity:', record.nucl_diversity)\n",
    "    \n",
    "    #this includes the same data as record.samples, however it is only the sample with values, \n",
    "    #print('record.get_hets:', record.get_hets())\n",
    "    #GT & PL have 72 values, which relates back to the ploidy value that was set when running GATK\n",
    "    #this information is a <class 'vcf.model.make_calldata_tuple.<locals>.CallData'>\n",
    "    #want to be able to get the tuple names as well as the data\n",
    "    hets = record.get_hets()\n",
    "    for het in hets:\n",
    "        #print(het)\n",
    "        print(het.sample)\n",
    "        het_callData = het.data\n",
    "        print(het_callData)\n",
    "        print(type(het_callData))\n",
    "        for sec in het_callData:\n",
    "            print(sec)\n",
    "        #for k, v in het_callData:\n",
    "        #    print(k, ': ' , v, sep='')\n",
    "    \n",
    "    print('record.is_snp:', record.is_snp)\n",
    "    print('record.is_indel:', record.is_indel)\n",
    "    print('record.is_transition:', record.is_transition)\n",
    "    print('record.is_deletion:', record.is_deletion)\n",
    "    print('record.var_type:', record.var_type)\n",
    "    print('record.var_subtype:', record.var_subtype)\n",
    "    print('record.is_monomorphic:', record.is_monomorphic)\n",
    "    #print('record.genotype():', record.genotype('NA00001')['GT'])\n",
    "    print()\n",
    "    \n",
    "    if counts == 1:\n",
    "        break"
   ]
  },
  {
   "cell_type": "markdown",
   "metadata": {},
   "source": [
    "Now lets look at the Quality Scores.  There is a value called QUAL in the data, so lets extract that"
   ]
  },
  {
   "cell_type": "code",
   "execution_count": 6,
   "metadata": {},
   "outputs": [
    {
     "name": "stdout",
     "output_type": "stream",
     "text": [
      "[78.35, 51.35, 71.35, 83.35, 83.35, 77.35, 444.8, 444.8, 293.87, 146.21, 201.8, 127.05, 131.17, 82.35, 81.35, 83.35, 81.35, 50.36, 63.35, 75.35, 171.18, 64, 73.32, 64, 64.32, 83.35, 58.29, 662.7, 1600.25, 1288.19, 1655.02, 2516.7, 83.35, 83.35, 762.56, 66.35, 75.35, 126.09, 55.29, 83.35, 83.35, 80.35, 74.35, 83.35, 83.35, 83.35, 83.35, 83.35, 74.29, 75.35, 74.29, 74.29, 67.35, 75.35, 82.35, 74.29, 74.35, 74.35, 74.35, 82.35, 82.35, 43.6, 75.35, 83.35, 83.35, 74.29, 82.35, 59.29, 77.35, 79.35, 71.35, 67.35, 75.35, 67.35, 83.35, 83.35, 831.88, 2045.16, 60214.11, 32.59, 175981.81, 37.56, 354.53, 39.89, 3929.46, 4371.43]\n"
     ]
    }
   ],
   "source": [
    "quals=[]\n",
    "vcf_reader = vcf.Reader(open(InFile, 'r'))\n",
    "for record in vcf_reader:\n",
    "    #if record.QUAL <= 100:\n",
    "    quals.append(record.QUAL)\n",
    "print(quals)"
   ]
  },
  {
   "cell_type": "code",
   "execution_count": 7,
   "metadata": {},
   "outputs": [
    {
     "data": {
      "image/png": "[encoded data removed]",
      "text/plain": [
       "<matplotlib.figure.Figure at 0x2aaacb268198>"
      ]
     },
     "metadata": {},
     "output_type": "display_data"
    }
   ],
   "source": [
    "import matplotlib.pyplot as plt\n",
    "import numpy as np\n",
    "%matplotlib inline\n",
    "x = quals\n",
    "plt.hist(x, normed=True, bins=80)\n",
    "plt.ylabel('Probability');"
   ]
  },
  {
   "cell_type": "markdown",
   "metadata": {},
   "source": [
    "This graph looks really odd, perhaps I need to have a look at the values I am getting.\n",
    "On closer inspection of the data, The values are extreem, not at all what I was expecting\n",
    "***\n",
    "#### Notes:  Perhaps try and plot as distribution, with log scale \n",
    "Not sure where to go here,  perhaps a change of tact.  \n",
    "***\n",
    "Lets build a function to extract a specified matrix of values from the specified VCF File, and output this to a new tab delimited file.\n",
    "\n",
    "*Re-acquainting myself with Python Dictionaries, looking at one of the INFO details*"
   ]
  },
  {
   "cell_type": "code",
   "execution_count": 8,
   "metadata": {},
   "outputs": [
    {
     "name": "stdout",
     "output_type": "stream",
     "text": [
      "AC: [68]\n",
      "AF: [0.944]\n",
      "AN: 72\n",
      "DP: 2\n",
      "FS: 0.0\n",
      "MLEAC: [68]\n",
      "MLEAF: [0.944]\n",
      "MQ: 60.0\n",
      "QD: 35.92\n",
      "SOR: 2.303\n",
      "2\n"
     ]
    }
   ],
   "source": [
    "myDict = {'AC': [68], 'AF': [0.944], 'AN': 72, 'DP': 2, 'FS': 0.0, 'MLEAC': [68], 'MLEAF': [0.944], 'MQ': 60.0, 'QD': 35.92, 'SOR': 2.303}\n",
    "for k, v in myDict.items():\n",
    "    print(k, ': ' , v, sep='')\n",
    "\n",
    "mname = 'DP'\n",
    "print(myDict[mname])"
   ]
  },
  {
   "cell_type": "markdown",
   "metadata": {},
   "source": [
    "### Now will build a function to extract specified matrix values from the specified VCF File, and output this to a new tab delimited file"
   ]
  },
  {
   "cell_type": "code",
   "execution_count": 9,
   "metadata": {},
   "outputs": [],
   "source": [
    "def ExtractQualityMatrix(inFile, outFile, paramList):\n",
    "    \n",
    "    #extract specified matrix values from the specified VCF File, and output this to a new tab delimited file\n",
    "    \n",
    "    #build the header string\n",
    "    headerStr = \"\"\n",
    "    for item in paramList:\n",
    "        headerStr = headerStr + \"\\t\" + item\n",
    "    #print(headerStr)\n",
    "    \n",
    "    #open the in file for reading\n",
    "    vcf_reader = vcf.Reader(open(inFile, 'r'))\n",
    "    \n",
    "    #open the out file for writing\n",
    "    with open(outFile, 'w') as fileout:\n",
    "    \n",
    "        #print the header details\n",
    "        fileout.write(headerStr + '\\n')\n",
    "        itemStr=\"\"\n",
    "        counts=0\n",
    "        \n",
    "        for record in vcf_reader:\n",
    "            counts+=1\n",
    "            itemStr = str(counts)\n",
    "            #will probably need to check the INFO Dictionary, so extract it here first\n",
    "            infoDict = record.INFO\n",
    "\n",
    "            for item in paramList:\n",
    "                #print('item:', item)\n",
    "                if item == \"CHROM\":\n",
    "                    itemStr = itemStr + \"\\t\" + str(record.CHROM)\n",
    "                elif item == \"POS\":\n",
    "                    itemStr = itemStr + \"\\t\" + str(record.POS)\n",
    "                elif item == \"ID\":\n",
    "                    itemStr = itemStr + \"\\t\" + str(record.ID)\n",
    "                elif item == \"REF\":\n",
    "                    itemStr = itemStr + \"\\t\" + str(record.REF)\n",
    "                elif item == \"ALT\":\n",
    "                    itemStr = itemStr + \"\\t\" + str(record.ALT)\n",
    "                elif item == \"QUAL\":\n",
    "                    itemStr = itemStr + \"\\t\" + str(record.QUAL)\n",
    "                elif item == \"FILTER\":\n",
    "                    itemStr = itemStr + \"\\t\" + str(record.FILTER)\n",
    "                elif item == \"INFO\":\n",
    "                    itemStr = itemStr + \"\\t\" + str(record.INFO)\n",
    "                elif item == \"FORMAT\":\n",
    "                    itemStr = itemStr + \"\\t\" + str(record.FORMAT)\n",
    "                else:\n",
    "                    #need to check the INFO Dictionary\n",
    "                    try:\n",
    "                        #print('Dictionary:', infoDict[item])\n",
    "                        itemStr = itemStr + \"\\t\" + str(infoDict[item])\n",
    "                    except:\n",
    "                        itemStr = itemStr + \"\\t\"\n",
    "                        pass\n",
    "\n",
    "            #print(itemStr)\n",
    "            fileout.write(itemStr + '\\n')\n",
    "            itemStr=''\n",
    "\n",
    "            #if counts==1:\n",
    "            #    break\n",
    "    "
   ]
  },
  {
   "cell_type": "code",
   "execution_count": 10,
   "metadata": {
    "collapsed": true
   },
   "outputs": [],
   "source": [
    "InFile=\"/OSM/CBR/AF_DATASCHOOL/output/2018-05-03_canola/VCF/output.vcf\"\n",
    "OutFile=\"/home/cla473/notebooks/QualityMatrix.csv\"\n",
    "ParamList = ('CHROM', 'POS', 'REF', 'ALT', 'QUAL', 'DP', 'MQ', 'QD')\n",
    "ExtractQualityMatrix(InFile, OutFile, ParamList)"
   ]
  },
  {
   "cell_type": "markdown",
   "metadata": {},
   "source": [
    "## TODO:  Need to do some unit testing on the above function ......"
   ]
  },
  {
   "cell_type": "markdown",
   "metadata": {
    "collapsed": true
   },
   "source": [
    "Now load in the newly created file and graph it"
   ]
  },
  {
   "cell_type": "code",
   "execution_count": 23,
   "metadata": {},
   "outputs": [
    {
     "data": {
      "image/png": "[encoded data removed]",
      "text/plain": [
       "<matplotlib.figure.Figure at 0x2aaae4472828>"
      ]
     },
     "metadata": {},
     "output_type": "display_data"
    }
   ],
   "source": [
    "import matplotlib.pyplot as plt\n",
    "import pandas as pd\n",
    "import numpy as np\n",
    "\n",
    "InFile=\"/home/cla473/notebooks/QualityMatrix.csv\"\n",
    "df = pd.read_csv(InFile, delimiter='\\t', header=0, usecols=['QUAL', 'DP'])\n",
    "df_sorted = df.sort_values('DP')\n",
    "#print(df)\n",
    "\n",
    "plt.plot(df_sorted['DP'], df_sorted['QUAL'], label=\"Loaded from file!\")\n",
    "plt.show()"
   ]
  },
  {
   "cell_type": "code",
   "execution_count": 28,
   "metadata": {},
   "outputs": [
    {
     "data": {
      "image/png": "[encoded data removed]",
      "text/plain": [
       "<matplotlib.figure.Figure at 0x2aaae4956ba8>"
      ]
     },
     "metadata": {},
     "output_type": "display_data"
    }
   ],
   "source": [
    "plt.scatter(df_sorted['DP'], df_sorted['QUAL'], label=\"Loaded from file!\")\n",
    "plt.show()"
   ]
  },
  {
   "cell_type": "code",
   "execution_count": 29,
   "metadata": {},
   "outputs": [
    {
     "data": {
      "image/png": "[encoded data removed]",
      "text/plain": [
       "<matplotlib.figure.Figure at 0x2aaae49ea8d0>"
      ]
     },
     "metadata": {},
     "output_type": "display_data"
    }
   ],
   "source": [
    "#lets see how this looks\n",
    "df_sorted['QualByDp'] = df['QUAL'] / df['DP']\n",
    "#print(df_sorted)\n",
    "\n",
    "plt.hist(df_sorted['QualByDp'], normed=True, bins=80)\n",
    "plt.ylabel('Probability');"
   ]
  },
  {
   "cell_type": "code",
   "execution_count": null,
   "metadata": {
    "collapsed": true
   },
   "outputs": [],
   "source": []
  }
 ],
 "metadata": {
  "kernelspec": {
   "display_name": "Python 3",
   "language": "python",
   "name": "python3"
  },
  "language_info": {
   "codemirror_mode": {
    "name": "ipython",
    "version": 3
   },
   "file_extension": ".py",
   "mimetype": "text/x-python",
   "name": "python",
   "nbconvert_exporter": "python",
   "pygments_lexer": "ipython3",
   "version": "3.6.1"
  }
 },
 "nbformat": 4,
 "nbformat_minor": 2
}
